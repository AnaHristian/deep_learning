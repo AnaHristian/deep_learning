{
 "cells": [
  {
   "cell_type": "markdown",
   "metadata": {},
   "source": [
    "# Face Generation\n",
    "\n",
    "In this project, you'll define and train a DCGAN on a dataset of faces. Your goal is to get a generator network to generate *new* images of faces that look as realistic as possible!\n",
    "\n",
    "The project will be broken down into a series of tasks from **loading in data to defining and training adversarial networks**. At the end of the notebook, you'll be able to visualize the results of your trained Generator to see how it performs; your generated samples should look like fairly realistic faces with small amounts of noise.\n",
    "\n",
    "### Get the Data\n",
    "\n",
    "You'll be using the [CelebFaces Attributes Dataset (CelebA)](http://mmlab.ie.cuhk.edu.hk/projects/CelebA.html) to train your adversarial networks.\n",
    "\n",
    "This dataset is more complex than the number datasets (like MNIST or SVHN) you've been working with, and so, you should prepare to define deeper networks and train them for a longer time to get good results. It is suggested that you utilize a GPU for training.\n",
    "\n",
    "### Pre-processed Data\n",
    "\n",
    "Since the project's main focus is on building the GANs, we've done *some* of the pre-processing for you. Each of the CelebA images has been cropped to remove parts of the image that don't include a face, then resized down to 64x64x3 NumPy images. Some sample data is show below.\n",
    "\n",
    "<img src='assets/processed_face_data.png' width=60% />\n",
    "\n",
    "> If you are working locally, you can download this data [by clicking here](https://s3.amazonaws.com/video.udacity-data.com/topher/2018/November/5be7eb6f_processed-celeba-small/processed-celeba-small.zip)\n",
    "\n",
    "This is a zip file that you'll need to extract in the home directory of this notebook for further loading and processing. After extracting the data, you should be left with a directory of data `processed_celeba_small/`"
   ]
  },
  {
   "cell_type": "code",
   "execution_count": 1,
   "metadata": {},
   "outputs": [],
   "source": [
    "import signal\n",
    "\n",
    "from contextlib import contextmanager\n",
    "\n",
    "import requests\n",
    "\n",
    "\n",
    "DELAY = INTERVAL = 4 * 60  # interval time in seconds\n",
    "MIN_DELAY = MIN_INTERVAL = 2 * 60\n",
    "KEEPALIVE_URL = \"https://nebula.udacity.com/api/v1/remote/keep-alive\"\n",
    "TOKEN_URL = \"http://metadata.google.internal/computeMetadata/v1/instance/attributes/keep_alive_token\"\n",
    "TOKEN_HEADERS = {\"Metadata-Flavor\":\"Google\"}\n",
    "\n",
    "\n",
    "def _request_handler(headers):\n",
    "    def _handler(signum, frame):\n",
    "        requests.request(\"POST\", KEEPALIVE_URL, headers=headers)\n",
    "    return _handler\n",
    "\n",
    "\n",
    "@contextmanager\n",
    "def active_session(delay=DELAY, interval=INTERVAL):\n",
    "    \"\"\"\n",
    "    Example:\n",
    "\n",
    "    from workspace_utils import active session\n",
    "\n",
    "    with active_session():\n",
    "        # do long-running work here\n",
    "    \"\"\"\n",
    "    token = requests.request(\"GET\", TOKEN_URL, headers=TOKEN_HEADERS).text\n",
    "    headers = {'Authorization': \"STAR \" + token}\n",
    "    delay = max(delay, MIN_DELAY)\n",
    "    interval = max(interval, MIN_INTERVAL)\n",
    "    original_handler = signal.getsignal(signal.SIGALRM)\n",
    "    try:\n",
    "        signal.signal(signal.SIGALRM, _request_handler(headers))\n",
    "        signal.setitimer(signal.ITIMER_REAL, delay, interval)\n",
    "        yield\n",
    "    finally:\n",
    "        signal.signal(signal.SIGALRM, original_handler)\n",
    "        signal.setitimer(signal.ITIMER_REAL, 0)\n",
    "\n",
    "\n",
    "def keep_awake(iterable, delay=DELAY, interval=INTERVAL):\n",
    "    \"\"\"\n",
    "    Example:\n",
    "\n",
    "    from workspace_utils import keep_awake\n",
    "\n",
    "    for i in keep_awake(range(5)):\n",
    "        # do iteration with lots of work here\n",
    "    \"\"\"\n",
    "    with active_session(delay, interval): yield from iterable"
   ]
  },
  {
   "cell_type": "code",
   "execution_count": 2,
   "metadata": {},
   "outputs": [],
   "source": [
    "# can comment out after executing\n",
    "#!unzip processed_celeba_small.zip"
   ]
  },
  {
   "cell_type": "code",
   "execution_count": 3,
   "metadata": {},
   "outputs": [],
   "source": [
    "data_dir = 'processed_celeba_small/'\n",
    "\n",
    "\"\"\"\n",
    "DON'T MODIFY ANYTHING IN THIS CELL\n",
    "\"\"\"\n",
    "import pickle as pkl\n",
    "import matplotlib.pyplot as plt\n",
    "import numpy as np\n",
    "import problem_unittests as tests\n",
    "#import helper\n",
    "\n",
    "%matplotlib inline"
   ]
  },
  {
   "cell_type": "markdown",
   "metadata": {},
   "source": [
    "## Visualize the CelebA Data\n",
    "\n",
    "The [CelebA](http://mmlab.ie.cuhk.edu.hk/projects/CelebA.html) dataset contains over 200,000 celebrity images with annotations. Since you're going to be generating faces, you won't need the annotations, you'll only need the images. Note that these are color images with [3 color channels (RGB)](https://en.wikipedia.org/wiki/Channel_(digital_image)#RGB_Images) each.\n",
    "\n",
    "### Pre-process and Load the Data\n",
    "\n",
    "Since the project's main focus is on building the GANs, we've done *some* of the pre-processing for you. Each of the CelebA images has been cropped to remove parts of the image that don't include a face, then resized down to 64x64x3 NumPy images. This *pre-processed* dataset is a smaller subset of the very large CelebA data.\n",
    "\n",
    "> There are a few other steps that you'll need to **transform** this data and create a **DataLoader**.\n",
    "\n",
    "#### Exercise: Complete the following `get_dataloader` function, such that it satisfies these requirements:\n",
    "\n",
    "* Your images should be square, Tensor images of size `image_size x image_size` in the x and y dimension.\n",
    "* Your function should return a DataLoader that shuffles and batches these Tensor images.\n",
    "\n",
    "#### ImageFolder\n",
    "\n",
    "To create a dataset given a directory of images, it's recommended that you use PyTorch's [ImageFolder](https://pytorch.org/docs/stable/torchvision/datasets.html#imagefolder) wrapper, with a root directory `processed_celeba_small/` and data transformation passed in."
   ]
  },
  {
   "cell_type": "code",
   "execution_count": 4,
   "metadata": {},
   "outputs": [],
   "source": [
    "# necessary imports\n",
    "import torch\n",
    "from torchvision import datasets\n",
    "from torchvision import transforms"
   ]
  },
  {
   "cell_type": "code",
   "execution_count": 5,
   "metadata": {},
   "outputs": [],
   "source": [
    "def get_dataloader(batch_size, image_size, data_dir='processed_celeba_small/'):\n",
    "    \"\"\"\n",
    "    Batch the neural network data using DataLoader\n",
    "    :param batch_size: The size of each batch; the number of images in a batch\n",
    "    :param img_size: The square size of the image data (x, y)\n",
    "    :param data_dir: Directory where image data is located\n",
    "    :return: DataLoader with batched data\n",
    "    \"\"\"\n",
    "    \n",
    "    # TODO: Implement function and return a dataloader\n",
    "    # Composes several transforms together\n",
    "    transform = transforms.Compose([ transforms.Resize(image_size),\n",
    "                                   #transforms.CenterCrop(image_size),\n",
    "                                   transforms.ToTensor(),\n",
    "                                   #transforms.Normalize((0.5, 0.5, 0.5), (0.5, 0.5, 0.5))\n",
    "                                   ])\n",
    "    \n",
    "    # A generic data loader where the images are arranged\n",
    "    # Create the dataset\n",
    "    dataset = datasets.ImageFolder(root=data_dir, \n",
    "                                   transform=transform)\n",
    "\n",
    "    # Create the dataloader\n",
    "    dataloader = torch.utils.data.DataLoader(dataset, batch_size=batch_size,\n",
    "                                             shuffle=True, \n",
    "                                             num_workers=workers\n",
    "                                            )\n",
    "    \n",
    "    return dataloader"
   ]
  },
  {
   "cell_type": "markdown",
   "metadata": {},
   "source": [
    "## Create a DataLoader\n",
    "\n",
    "#### Exercise: Create a DataLoader `celeba_train_loader` with appropriate hyperparameters.\n",
    "\n",
    "Call the above function and create a dataloader to view images. \n",
    "* You can decide on any reasonable `batch_size` parameter\n",
    "* Your `image_size` **must be** `32`. Resizing the data to a smaller size will make for faster training, while still creating convincing images of faces!"
   ]
  },
  {
   "cell_type": "code",
   "execution_count": 6,
   "metadata": {},
   "outputs": [],
   "source": [
    "# Spatial size of training images. All images will be resized to this\n",
    "#   size using a transformer.\n",
    "img_size = 32\n",
    "# Batch size during training\n",
    "batch_size = 128\n",
    "# Number of workers for dataloader\n",
    "workers = 0\n",
    "\n",
    "\"\"\"\n",
    "DON'T MODIFY ANYTHING IN THIS CELL THAT IS BELOW THIS LINE\n",
    "\"\"\"\n",
    "# Call your function and get a dataloader\n",
    "celeba_train_loader = get_dataloader(batch_size, img_size)"
   ]
  },
  {
   "cell_type": "markdown",
   "metadata": {},
   "source": [
    "Next, you can view some images! You should seen square images of somewhat-centered faces.\n",
    "\n",
    "Note: You'll need to convert the Tensor images into a NumPy type and transpose the dimensions to correctly display an image, suggested `imshow` code is below, but it may not be perfect."
   ]
  },
  {
   "cell_type": "code",
   "execution_count": 7,
   "metadata": {},
   "outputs": [
    {
     "data": {
      "image/png": "[encoded data removed]",
      "text/plain": [
       "<matplotlib.figure.Figure at 0x7f1aeb9e42b0>"
      ]
     },
     "metadata": {},
     "output_type": "display_data"
    }
   ],
   "source": [
    "# helper display function\n",
    "def imshow(img):\n",
    "    npimg = img.numpy()\n",
    "    plt.imshow(np.transpose(npimg, (1, 2, 0)))\n",
    "\n",
    "\"\"\"\n",
    "DON'T MODIFY ANYTHING IN THIS CELL THAT IS BELOW THIS LINE\n",
    "\"\"\"\n",
    "# obtain one batch of training images\n",
    "dataiter = iter(celeba_train_loader)\n",
    "images, _ = dataiter.next() # _ for no labels\n",
    "\n",
    "# plot the images in the batch, along with the corresponding labels\n",
    "fig = plt.figure(figsize=(20, 4))\n",
    "plot_size=20\n",
    "for idx in np.arange(plot_size):\n",
    "    ax = fig.add_subplot(2, plot_size/2, idx+1, xticks=[], yticks=[])\n",
    "    imshow(images[idx])"
   ]
  },
  {
   "cell_type": "markdown",
   "metadata": {},
   "source": [
    "#### Exercise: Pre-process your image data and scale it to a pixel range of -1 to 1\n",
    "\n",
    "You need to do a bit of pre-processing; you know that the output of a `tanh` activated generator will contain pixel values in a range from -1 to 1, and so, we need to rescale our training images to a range of -1 to 1. (Right now, they are in a range from 0-1.)"
   ]
  },
  {
   "cell_type": "code",
   "execution_count": 8,
   "metadata": {},
   "outputs": [
    {
     "name": "stdout",
     "output_type": "stream",
     "text": [
      "Min:  tensor(1.00000e-03 *\n",
      "       7.8431)\n",
      "Max:  tensor(0.9765)\n"
     ]
    }
   ],
   "source": [
    "# current range\n",
    "img = images[0]\n",
    "\n",
    "print('Min: ', img.min())\n",
    "print('Max: ', img.max())"
   ]
  },
  {
   "cell_type": "code",
   "execution_count": 9,
   "metadata": {},
   "outputs": [],
   "source": [
    "# TODO: Complete the scale function\n",
    "def scale(x, feature_range=(-1, 1)):\n",
    "    ''' Scale takes in an image x and returns that image, scaled\n",
    "       with a feature_range of pixel values from -1 to 1. \n",
    "       This function assumes that the input x is already scaled from 0-1.'''\n",
    "    # assume x is scaled to (0, 1)\n",
    "    # scale to feature_range and return scaled x\n",
    "    min, max = feature_range\n",
    "    # (max - min) will get me to the range 0, 2 and we add -1 to go to -1, 1 \n",
    "    x = x * (max - min) + min\n",
    "    return x"
   ]
  },
  {
   "cell_type": "code",
   "execution_count": 10,
   "metadata": {},
   "outputs": [
    {
     "name": "stdout",
     "output_type": "stream",
     "text": [
      "Min:  tensor(-0.9843)\n",
      "Max:  tensor(0.9529)\n"
     ]
    }
   ],
   "source": [
    "\"\"\"\n",
    "DON'T MODIFY ANYTHING IN THIS CELL THAT IS BELOW THIS LINE\n",
    "\"\"\"\n",
    "# check scaled range\n",
    "# should be close to -1 to 1\n",
    "img = images[0]\n",
    "scaled_img = scale(img)\n",
    "\n",
    "print('Min: ', scaled_img.min())\n",
    "print('Max: ', scaled_img.max())"
   ]
  },
  {
   "cell_type": "markdown",
   "metadata": {},
   "source": [
    "---\n",
    "# Define the Model\n",
    "\n",
    "A GAN is comprised of two adversarial networks, a discriminator and a generator.\n",
    "\n",
    "## Discriminator\n",
    "\n",
    "Your first task will be to define the discriminator. This is a convolutional classifier like you've built before, only without any maxpooling layers. To deal with this complex data, it's suggested you use a deep network with **normalization**. You are also allowed to create any helper functions that may be useful.\n",
    "\n",
    "#### Exercise: Complete the Discriminator class\n",
    "* The inputs to the discriminator are 32x32x3 tensor images\n",
    "* The output should be a single value that will indicate whether a given image is real or fake\n"
   ]
  },
  {
   "cell_type": "code",
   "execution_count": 11,
   "metadata": {},
   "outputs": [],
   "source": [
    "import torch.nn as nn\n",
    "import torch.nn.functional as F"
   ]
  },
  {
   "cell_type": "code",
   "execution_count": 12,
   "metadata": {},
   "outputs": [],
   "source": [
    "# helper conv function\n",
    "def conv(in_channels, out_channels, kernel_size, stride=2, padding=1, batch_norm=True):\n",
    "    \"\"\"Creates a convolutional layer, with optional batch normalization.\n",
    "    \"\"\"\n",
    "    # list of layers\n",
    "    layers = []\n",
    "    # strided convolutional layer\n",
    "    # bias = false -> these layers are not offset by any amount\n",
    "    # kernel size of four and a stride of two, padding of 1 will ensure: down-samples by a factor of two (X,Y)\n",
    "    conv_layer = nn.Conv2d(in_channels, out_channels, \n",
    "                           kernel_size, stride, padding, bias=False)\n",
    "    \n",
    "    # append conv layer\n",
    "    layers.append(conv_layer)\n",
    "\n",
    "    if batch_norm:\n",
    "        # append batchnorm layer on the output of our convolutional layer\n",
    "        layers.append(nn.BatchNorm2d(out_channels))\n",
    "     \n",
    "    # using Sequential container\n",
    "    # will return the layers\n",
    "    return nn.Sequential(*layers)"
   ]
  },
  {
   "cell_type": "code",
   "execution_count": 13,
   "metadata": {},
   "outputs": [
    {
     "name": "stdout",
     "output_type": "stream",
     "text": [
      "conv1 Sequential(\n",
      "  (0): Conv2d(3, 32, kernel_size=(4, 4), stride=(2, 2), padding=(1, 1), bias=False)\n",
      ")\n",
      "conv2 Sequential(\n",
      "  (0): Conv2d(32, 64, kernel_size=(4, 4), stride=(2, 2), padding=(1, 1), bias=False)\n",
      "  (1): BatchNorm2d(64, eps=1e-05, momentum=0.1, affine=True, track_running_stats=True)\n",
      ")\n",
      "conv3 Sequential(\n",
      "  (0): Conv2d(64, 128, kernel_size=(4, 4), stride=(2, 2), padding=(1, 1), bias=False)\n",
      "  (1): BatchNorm2d(128, eps=1e-05, momentum=0.1, affine=True, track_running_stats=True)\n",
      ")\n",
      "fc 2048 1\n"
     ]
    }
   ],
   "source": [
    "print(\"conv1\", conv(3, 32, 4, batch_norm=False))\n",
    "print(\"conv2\", conv(32, 32*2, 4))\n",
    "print(\"conv3\", conv(32*2, 32*4, 4))\n",
    "print(\"fc\", 32*4*4*4, 1)"
   ]
  },
  {
   "cell_type": "code",
   "execution_count": 14,
   "metadata": {},
   "outputs": [
    {
     "name": "stdout",
     "output_type": "stream",
     "text": [
      "Tests Passed\n"
     ]
    }
   ],
   "source": [
    "class Discriminator(nn.Module):\n",
    "\n",
    "    def __init__(self, conv_dim):\n",
    "        \"\"\"\n",
    "        Initialize the Discriminator Module\n",
    "        :param conv_dim: The depth of the first convolutional layer\n",
    "        \"\"\"\n",
    "        super(Discriminator, self).__init__()\n",
    "        \n",
    "        self.conv_dim = conv_dim\n",
    "        \n",
    "        # 32x32 input\n",
    "        # first layer, no batch norm\n",
    "        self.conv1 = conv(3, conv_dim, 4, batch_norm=False)\n",
    "        # 16x16 out\n",
    "        self.conv2 = conv(conv_dim, conv_dim*2, 4)\n",
    "        # 8x8 out\n",
    "        self.conv3 = conv(conv_dim*2, conv_dim*4, 4)\n",
    "        # 4x4 out\n",
    "        \n",
    "        # final, fully-connected layer\n",
    "        self.fc = nn.Linear(conv_dim*4*4*4, 1)\n",
    "\n",
    "    def forward(self, x):\n",
    "        \"\"\"\n",
    "        Forward propagation of the neural network\n",
    "        :param x: The input to the neural network     \n",
    "        :return: Discriminator logits; the output of the neural network\n",
    "        \"\"\"\n",
    "        # define feedforward behavior\n",
    "        # all hidden layers leaky relu activation\n",
    "        out = F.leaky_relu(self.conv1(x), 0.2)\n",
    "        out = F.leaky_relu(self.conv2(out), 0.2)\n",
    "        out = F.leaky_relu(self.conv3(out), 0.2)\n",
    "        \n",
    "        # flatten\n",
    "        out = out.view(-1, self.conv_dim*4*4*4)\n",
    "        \n",
    "        # final output layer\n",
    "        out = self.fc(out)\n",
    "        \n",
    "        return out\n",
    "\n",
    "    \n",
    "\"\"\"\n",
    "DON'T MODIFY ANYTHING IN THIS CELL THAT IS BELOW THIS LINE\n",
    "\"\"\"\n",
    "tests.test_discriminator(Discriminator)"
   ]
  },
  {
   "cell_type": "markdown",
   "metadata": {},
   "source": [
    "## Generator\n",
    "\n",
    "The generator should upsample an input and generate a *new* image of the same size as our training data `32x32x3`. This should be mostly transpose convolutional layers with normalization applied to the outputs.\n",
    "\n",
    "#### Exercise: Complete the Generator class\n",
    "* The inputs to the generator are vectors of some length `z_size`\n",
    "* The output should be a image of shape `32x32x3`"
   ]
  },
  {
   "cell_type": "code",
   "execution_count": 15,
   "metadata": {},
   "outputs": [],
   "source": [
    "# helper deconv function\n",
    "def deconv(in_channels, out_channels, kernel_size, stride=2, padding=1, batch_norm=True):\n",
    "    \"\"\"Creates a transposed-convolutional layer, with optional batch normalization.\n",
    "    \"\"\"\n",
    "    ## create a sequence of transpose + optional batch norm layers\n",
    "    layers = []\n",
    "    transpose_conv_layer = nn.ConvTranspose2d(in_channels, out_channels,\n",
    "                                              kernel_size, stride, padding, bias=False)\n",
    "    \n",
    "    # append conv layer\n",
    "    layers.append(transpose_conv_layer)\n",
    "    \n",
    "    if batch_norm:\n",
    "        # append batchnorm layer\n",
    "        layers.append(nn.BatchNorm2d(out_channels))\n",
    "        \n",
    "    # using Sequential container\n",
    "    return nn.Sequential(*layers)"
   ]
  },
  {
   "cell_type": "code",
   "execution_count": 16,
   "metadata": {},
   "outputs": [
    {
     "name": "stdout",
     "output_type": "stream",
     "text": [
      "100 2048\n",
      "Sequential(\n",
      "  (0): ConvTranspose2d(128, 64, kernel_size=(4, 4), stride=(2, 2), padding=(1, 1), bias=False)\n",
      "  (1): BatchNorm2d(64, eps=1e-05, momentum=0.1, affine=True, track_running_stats=True)\n",
      ")\n",
      "Sequential(\n",
      "  (0): ConvTranspose2d(64, 32, kernel_size=(4, 4), stride=(2, 2), padding=(1, 1), bias=False)\n",
      "  (1): BatchNorm2d(32, eps=1e-05, momentum=0.1, affine=True, track_running_stats=True)\n",
      ")\n",
      "Sequential(\n",
      "  (0): ConvTranspose2d(32, 3, kernel_size=(4, 4), stride=(2, 2), padding=(1, 1), bias=False)\n",
      "  (1): BatchNorm2d(3, eps=1e-05, momentum=0.1, affine=True, track_running_stats=True)\n",
      ")\n"
     ]
    }
   ],
   "source": [
    "print(100, 32*4*4*4)\n",
    "print(deconv(32*4, 32*2, 4))\n",
    "print(deconv(32*2, 32, 4))\n",
    "print(deconv(32, 3, 4))"
   ]
  },
  {
   "cell_type": "code",
   "execution_count": 17,
   "metadata": {},
   "outputs": [
    {
     "name": "stdout",
     "output_type": "stream",
     "text": [
      "Tests Passed\n"
     ]
    }
   ],
   "source": [
    "class Generator(nn.Module):\n",
    "    \n",
    "    def __init__(self, z_size, conv_dim):\n",
    "        \"\"\"\n",
    "        Initialize the Generator Module\n",
    "        :param z_size: The length of the input latent vector, z\n",
    "        :param conv_dim: The depth of the inputs to the *last* transpose convolutional layer\n",
    "        \"\"\"\n",
    "        super(Generator, self).__init__()\n",
    "\n",
    "        self.conv_dim = conv_dim\n",
    "        \n",
    "        # first, fully connected layer\n",
    "        self.fc = nn.Linear(z_size, conv_dim*4*4*4)\n",
    "        \n",
    "        # transpose conv layers\n",
    "        # 32*4*4*4/(32*4): 4x4\n",
    "        self.t_conv1 = deconv(conv_dim*4, conv_dim*2, 4)\n",
    "        # 8x8\n",
    "        self.t_conv2 = deconv(conv_dim*2, conv_dim, 4)\n",
    "        # 16x16\n",
    "        self.t_conv3 = deconv(conv_dim, 3, 4, batch_norm=False)\n",
    "        # 32x32\n",
    "        \n",
    "    def forward(self, x):\n",
    "        \"\"\"\n",
    "        Forward propagation of the neural network\n",
    "        :param x: The input to the neural network     \n",
    "        :return: A 32x32x3 Tensor image as output\n",
    "        \"\"\"\n",
    "        # # the shape it produces conv_dim*4*4*4\n",
    "        out = self.fc(x)\n",
    "        # batch_size, depth, 4, 4\n",
    "        out = out.view(-1, self.conv_dim*4, 4, 4)\n",
    "        \n",
    "        # hidden transpose conv layers + relu\n",
    "        out = F.relu(self.t_conv1(out))\n",
    "        out = F.relu(self.t_conv2(out))\n",
    "        \n",
    "        # last layer + tanh activation\n",
    "        out = self.t_conv3(out)\n",
    "        # return a shape of (-1, 1)\n",
    "        out = F.tanh(out)\n",
    "        \n",
    "        return out\n",
    "\n",
    "\"\"\"\n",
    "DON'T MODIFY ANYTHING IN THIS CELL THAT IS BELOW THIS LINE\n",
    "\"\"\"\n",
    "tests.test_generator(Generator)"
   ]
  },
  {
   "cell_type": "markdown",
   "metadata": {},
   "source": [
    "## Initialize the weights of your networks\n",
    "\n",
    "To help your models converge, you should initialize the weights of the convolutional and linear layers in your model. From reading the [original DCGAN paper](https://arxiv.org/pdf/1511.06434.pdf), they say:\n",
    "> All weights were initialized from a zero-centered Normal distribution with standard deviation 0.02.\n",
    "\n",
    "So, your next task will be to define a weight initialization function that does just this!\n",
    "\n",
    "You can refer back to the lesson on weight initialization or even consult existing model code, such as that from [the `networks.py` file in CycleGAN Github repository](https://github.com/junyanz/pytorch-CycleGAN-and-pix2pix/blob/master/models/networks.py) to help you complete this function.\n",
    "\n",
    "#### Exercise: Complete the weight initialization function\n",
    "\n",
    "* This should initialize only **convolutional** and **linear** layers\n",
    "* Initialize the weights to a normal distribution, centered around 0, with a standard deviation of 0.02.\n",
    "* The bias terms, if they exist, may be left alone or set to 0."
   ]
  },
  {
   "cell_type": "code",
   "execution_count": 18,
   "metadata": {},
   "outputs": [],
   "source": [
    "def weights_init_normal(m):\n",
    "    \"\"\"\n",
    "    Applies initial weights to certain layers in a model .\n",
    "    The weights are taken from a normal distribution \n",
    "    with mean = 0, std dev = 0.02.\n",
    "    :param m: A module or layer in a network    \n",
    "    \"\"\"\n",
    "    # classname will be something like:\n",
    "    # `Conv`, `BatchNorm2d`, `Linear`, etc.\n",
    "    classname = m.__class__.__name__\n",
    "    \n",
    "    # TODO: Apply initial weights to convolutional and linear layers\n",
    "    if classname.find('Conv') != -1:\n",
    "        nn.init.normal_(m.weight.data, 0.0, 0.02)\n",
    "    elif classname.find('BatchNorm2d') != -1:\n",
    "        nn.init.normal_(m.weight.data, 1.0, 0.02)\n",
    "        nn.init.constant_(m.bias.data, 0)"
   ]
  },
  {
   "cell_type": "markdown",
   "metadata": {
    "collapsed": true
   },
   "source": [
    "## Build complete network\n",
    "\n",
    "Define your models' hyperparameters and instantiate the discriminator and generator from the classes defined above. Make sure you've passed in the correct input arguments."
   ]
  },
  {
   "cell_type": "code",
   "execution_count": 28,
   "metadata": {},
   "outputs": [],
   "source": [
    "\"\"\"\n",
    "DON'T MODIFY ANYTHING IN THIS CELL THAT IS BELOW THIS LINE\n",
    "\"\"\"\n",
    "def build_network(d_conv_dim, g_conv_dim, z_size):\n",
    "    # define discriminator and generator\n",
    "    D = Discriminator(d_conv_dim)\n",
    "    G = Generator(z_size=z_size, conv_dim=g_conv_dim)\n",
    "\n",
    "    # initialize model weights\n",
    "    D.apply(weights_init_normal)\n",
    "    G.apply(weights_init_normal)\n",
    "\n",
    "    print(D)\n",
    "    print()\n",
    "    print(G)\n",
    "    \n",
    "    return D, G"
   ]
  },
  {
   "cell_type": "markdown",
   "metadata": {},
   "source": [
    "#### Exercise: Define model hyperparameters"
   ]
  },
  {
   "cell_type": "code",
   "execution_count": 29,
   "metadata": {},
   "outputs": [
    {
     "name": "stdout",
     "output_type": "stream",
     "text": [
      "Discriminator(\n",
      "  (conv1): Sequential(\n",
      "    (0): Conv2d(3, 32, kernel_size=(4, 4), stride=(2, 2), padding=(1, 1), bias=False)\n",
      "  )\n",
      "  (conv2): Sequential(\n",
      "    (0): Conv2d(32, 64, kernel_size=(4, 4), stride=(2, 2), padding=(1, 1), bias=False)\n",
      "    (1): BatchNorm2d(64, eps=1e-05, momentum=0.1, affine=True, track_running_stats=True)\n",
      "  )\n",
      "  (conv3): Sequential(\n",
      "    (0): Conv2d(64, 128, kernel_size=(4, 4), stride=(2, 2), padding=(1, 1), bias=False)\n",
      "    (1): BatchNorm2d(128, eps=1e-05, momentum=0.1, affine=True, track_running_stats=True)\n",
      "  )\n",
      "  (fc): Linear(in_features=2048, out_features=1, bias=True)\n",
      ")\n",
      "\n",
      "Generator(\n",
      "  (fc): Linear(in_features=100, out_features=2048, bias=True)\n",
      "  (t_conv1): Sequential(\n",
      "    (0): ConvTranspose2d(128, 64, kernel_size=(4, 4), stride=(2, 2), padding=(1, 1), bias=False)\n",
      "    (1): BatchNorm2d(64, eps=1e-05, momentum=0.1, affine=True, track_running_stats=True)\n",
      "  )\n",
      "  (t_conv2): Sequential(\n",
      "    (0): ConvTranspose2d(64, 32, kernel_size=(4, 4), stride=(2, 2), padding=(1, 1), bias=False)\n",
      "    (1): BatchNorm2d(32, eps=1e-05, momentum=0.1, affine=True, track_running_stats=True)\n",
      "  )\n",
      "  (t_conv3): Sequential(\n",
      "    (0): ConvTranspose2d(32, 3, kernel_size=(4, 4), stride=(2, 2), padding=(1, 1), bias=False)\n",
      "  )\n",
      ")\n"
     ]
    }
   ],
   "source": [
    "# Define model hyperparams\n",
    "d_conv_dim = 32\n",
    "g_conv_dim = 32\n",
    "z_size = 100\n",
    "\n",
    "\"\"\"\n",
    "DON'T MODIFY ANYTHING IN THIS CELL THAT IS BELOW THIS LINE\n",
    "\"\"\"\n",
    "D, G = build_network(d_conv_dim, g_conv_dim, z_size)"
   ]
  },
  {
   "cell_type": "markdown",
   "metadata": {},
   "source": [
    "### Training on GPU\n",
    "\n",
    "Check if you can train on GPU. Here, we'll set this as a boolean variable `train_on_gpu`. Later, you'll be responsible for making sure that \n",
    ">* Models,\n",
    "* Model inputs, and\n",
    "* Loss function arguments\n",
    "\n",
    "Are moved to GPU, where appropriate."
   ]
  },
  {
   "cell_type": "code",
   "execution_count": 30,
   "metadata": {},
   "outputs": [
    {
     "name": "stdout",
     "output_type": "stream",
     "text": [
      "Training on GPU!\n"
     ]
    }
   ],
   "source": [
    "\"\"\"\n",
    "DON'T MODIFY ANYTHING IN THIS CELL\n",
    "\"\"\"\n",
    "import torch\n",
    "\n",
    "# Check for a GPU\n",
    "train_on_gpu = torch.cuda.is_available()\n",
    "if not train_on_gpu:\n",
    "    print('No GPU found. Please use a GPU to train your neural network.')\n",
    "else:\n",
    "    print('Training on GPU!')"
   ]
  },
  {
   "cell_type": "markdown",
   "metadata": {},
   "source": [
    "---\n",
    "## Discriminator and Generator Losses\n",
    "\n",
    "Now we need to calculate the losses for both types of adversarial networks.\n",
    "\n",
    "### Discriminator Losses\n",
    "\n",
    "> * For the discriminator, the total loss is the sum of the losses for real and fake images, `d_loss = d_real_loss + d_fake_loss`. \n",
    "* Remember that we want the discriminator to output 1 for real images and 0 for fake images, so we need to set up the losses to reflect that.\n",
    "\n",
    "\n",
    "### Generator Loss\n",
    "\n",
    "The generator loss will look similar only with flipped labels. The generator's goal is to get the discriminator to *think* its generated images are *real*.\n",
    "\n",
    "#### Exercise: Complete real and fake loss functions\n",
    "\n",
    "**You may choose to use either cross entropy or a least squares error loss to complete the following `real_loss` and `fake_loss` functions.**"
   ]
  },
  {
   "cell_type": "code",
   "execution_count": 31,
   "metadata": {},
   "outputs": [],
   "source": [
    "def real_loss(D_out, smooth=False):\n",
    "    batch_size = D_out.size(0)\n",
    "    # label smoothing\n",
    "    if smooth:\n",
    "        # smooth, real labels = 0.9\n",
    "        labels = torch.ones(batch_size)*0.9\n",
    "    else:\n",
    "        labels = torch.ones(batch_size) # real labels = 1\n",
    "    # move labels to GPU if available     \n",
    "    if train_on_gpu:\n",
    "        labels = labels.cuda()\n",
    "    # binary cross entropy with logits loss\n",
    "    criterion = nn.BCEWithLogitsLoss()\n",
    "    # calculate loss\n",
    "    loss = criterion(D_out.squeeze(), labels)\n",
    "    return loss\n",
    "\n",
    "def fake_loss(D_out):\n",
    "    batch_size = D_out.size(0)\n",
    "    labels = torch.zeros(batch_size) # fake labels = 0\n",
    "    if train_on_gpu:\n",
    "        labels = labels.cuda()\n",
    "    criterion = nn.BCEWithLogitsLoss()\n",
    "    # calculate loss\n",
    "    loss = criterion(D_out.squeeze(), labels)\n",
    "    return loss"
   ]
  },
  {
   "cell_type": "markdown",
   "metadata": {},
   "source": [
    "## Optimizers\n",
    "\n",
    "#### Exercise: Define optimizers for your Discriminator (D) and Generator (G)\n",
    "\n",
    "Define optimizers for your models with appropriate hyperparameters."
   ]
  },
  {
   "cell_type": "code",
   "execution_count": 33,
   "metadata": {},
   "outputs": [],
   "source": [
    "import torch.optim as optim\n",
    "\n",
    "# Learning rate for optimizers\n",
    "lr = 0.0002\n",
    "\n",
    "# Beta1 hyperparam for Adam optimizers\n",
    "beta1 = 0.5\n",
    "beta2 = 0.999\n",
    "\n",
    "# Establish convention for real and fake labels during training\n",
    "real_label = 1\n",
    "fake_label = 0\n",
    "\n",
    "# Create optimizers for the discriminator D and generator G\n",
    "d_optimizer = optim.Adam(D.parameters(), lr, [beta1, beta2])\n",
    "g_optimizer = optim.Adam(G.parameters(), lr, [beta1, beta2])"
   ]
  },
  {
   "cell_type": "markdown",
   "metadata": {},
   "source": [
    "---\n",
    "## Training\n",
    "\n",
    "Training will involve alternating between training the discriminator and the generator. You'll use your functions `real_loss` and `fake_loss` to help you calculate the discriminator losses.\n",
    "\n",
    "* You should train the discriminator by alternating on real and fake images\n",
    "* Then the generator, which tries to trick the discriminator and should have an opposing loss function\n",
    "\n",
    "\n",
    "#### Saving Samples\n",
    "\n",
    "You've been given some code to print out some loss statistics and save some generated \"fake\" samples."
   ]
  },
  {
   "cell_type": "markdown",
   "metadata": {},
   "source": [
    "#### Exercise: Complete the training function\n",
    "\n",
    "Keep in mind that, if you've moved your models to GPU, you'll also have to move any model inputs to GPU."
   ]
  },
  {
   "cell_type": "code",
   "execution_count": 34,
   "metadata": {},
   "outputs": [],
   "source": [
    "def train(D, G, n_epochs, print_every=500):\n",
    "    '''Trains adversarial networks for some number of epochs\n",
    "       param, D: the discriminator network\n",
    "       param, G: the generator network\n",
    "       param, n_epochs: number of epochs to train for\n",
    "       param, print_every: when to print and record the models' losses\n",
    "       return: D and G losses'''\n",
    "    \n",
    "    # move models to GPU\n",
    "    if train_on_gpu:\n",
    "        D.cuda()\n",
    "        G.cuda()\n",
    "\n",
    "    # keep track of loss and generated, \"fake\" samples\n",
    "    samples = []\n",
    "    losses = []\n",
    "\n",
    "    # Get some fixed data for sampling. These are images that are held\n",
    "    # constant throughout training, and allow us to inspect the model's performance\n",
    "    sample_size=16\n",
    "    fixed_z = np.random.uniform(-1, 1, size=(sample_size, z_size))\n",
    "    fixed_z = torch.from_numpy(fixed_z).float()\n",
    "    # move z to GPU if available\n",
    "    if train_on_gpu:\n",
    "        fixed_z = fixed_z.cuda()\n",
    "\n",
    "    # epoch training loop\n",
    "    for epoch in range(n_epochs):\n",
    "\n",
    "        # batch training loop\n",
    "        for batch_i, (real_images, _) in enumerate(celeba_train_loader):\n",
    "\n",
    "            batch_size = real_images.size(0)\n",
    "            real_images = scale(real_images)\n",
    "            if train_on_gpu:\n",
    "                real_images = real_images.cuda()\n",
    "\n",
    "            # ===============================================\n",
    "            #         YOUR CODE HERE: TRAIN THE NETWORKS\n",
    "            # ===============================================\n",
    "            \n",
    "            # 1. Train the discriminator on real and fake images\n",
    "            d_optimizer.zero_grad()\n",
    "            \n",
    "            # 1. Train with real images\n",
    "                \n",
    "            D_real = D(real_images)\n",
    "            d_real_loss = real_loss(D_real)\n",
    "            \n",
    "            # 2. Train with fake images\n",
    "            fake_images = G(fixed_z)\n",
    "            \n",
    "            D_fake = D(fake_images)\n",
    "            d_fake_loss = fake_loss(D_fake)\n",
    "            \n",
    "            # add up loss and perform backprop\n",
    "            d_loss = d_real_loss + d_fake_loss\n",
    "            d_loss.backward()\n",
    "            d_optimizer.step()\n",
    "\n",
    "            # 2. Train the generator with an adversarial loss\n",
    "            g_optimizer.zero_grad()\n",
    "            \n",
    "            fake_images = G(fixed_z)\n",
    "            \n",
    "            D_fake = D(fake_images)\n",
    "            \n",
    "            g_loss = real_loss(D_fake)\n",
    "            g_loss.backward()\n",
    "            g_optimizer.step()\n",
    "\n",
    "            \n",
    "            # ===============================================\n",
    "            #              END OF YOUR CODE\n",
    "            # ===============================================\n",
    "\n",
    "            # Print some loss stats\n",
    "            if batch_i % print_every == 0:\n",
    "                # append discriminator loss and generator loss\n",
    "                losses.append((d_loss.item(), g_loss.item()))\n",
    "                # print discriminator and generator loss\n",
    "                print('Epoch [{:5d}/{:5d}] | d_loss: {:6.4f} | g_loss: {:6.4f}'.format(\n",
    "                        epoch+1, n_epochs, d_loss.item(), g_loss.item()))\n",
    "\n",
    "\n",
    "        ## AFTER EACH EPOCH##    \n",
    "        # this code assumes your generator is named G, feel free to change the name\n",
    "        # generate and save sample, fake images\n",
    "        G.eval() # for generating samples\n",
    "        samples_z = G(fixed_z)\n",
    "        samples.append(samples_z)\n",
    "        G.train() # back to training mode\n",
    "\n",
    "    # Save training generator samples\n",
    "    with open('train_samples.pkl', 'wb') as f:\n",
    "        pkl.dump(samples, f)\n",
    "    \n",
    "    # finally return losses\n",
    "    return losses"
   ]
  },
  {
   "cell_type": "markdown",
   "metadata": {},
   "source": [
    "Set your number of training epochs and train your GAN!"
   ]
  },
  {
   "cell_type": "code",
   "execution_count": 35,
   "metadata": {},
   "outputs": [
    {
     "name": "stdout",
     "output_type": "stream",
     "text": [
      "Epoch [    1/  100] | d_loss: 1.4567 | g_loss: 0.8712\n",
      "Epoch [    1/  100] | d_loss: 1.1474 | g_loss: 1.1917\n",
      "Epoch [    2/  100] | d_loss: 1.2555 | g_loss: 0.9741\n",
      "Epoch [    2/  100] | d_loss: 1.1027 | g_loss: 1.2818\n",
      "Epoch [    3/  100] | d_loss: 1.0145 | g_loss: 1.8952\n",
      "Epoch [    3/  100] | d_loss: 0.9417 | g_loss: 1.2047\n",
      "Epoch [    4/  100] | d_loss: 1.0444 | g_loss: 1.1541\n",
      "Epoch [    4/  100] | d_loss: 1.0946 | g_loss: 1.1967\n",
      "Epoch [    5/  100] | d_loss: 1.0296 | g_loss: 1.4616\n",
      "Epoch [    5/  100] | d_loss: 0.8619 | g_loss: 2.0336\n",
      "Epoch [    6/  100] | d_loss: 0.6923 | g_loss: 1.6300\n",
      "Epoch [    6/  100] | d_loss: 0.8143 | g_loss: 1.4531\n",
      "Epoch [    7/  100] | d_loss: 0.3790 | g_loss: 2.4501\n",
      "Epoch [    7/  100] | d_loss: 0.7665 | g_loss: 1.8200\n",
      "Epoch [    8/  100] | d_loss: 0.7156 | g_loss: 2.2072\n",
      "Epoch [    8/  100] | d_loss: 0.3704 | g_loss: 2.3339\n",
      "Epoch [    9/  100] | d_loss: 0.2575 | g_loss: 2.7135\n",
      "Epoch [    9/  100] | d_loss: 0.6492 | g_loss: 1.8969\n",
      "Epoch [   10/  100] | d_loss: 0.3034 | g_loss: 2.3811\n",
      "Epoch [   10/  100] | d_loss: 0.3779 | g_loss: 3.1479\n",
      "Epoch [   11/  100] | d_loss: 0.3731 | g_loss: 2.7280\n",
      "Epoch [   11/  100] | d_loss: 0.1153 | g_loss: 3.3627\n",
      "Epoch [   12/  100] | d_loss: 0.6730 | g_loss: 3.1266\n",
      "Epoch [   12/  100] | d_loss: 0.7988 | g_loss: 1.5563\n",
      "Epoch [   13/  100] | d_loss: 0.3947 | g_loss: 2.4730\n",
      "Epoch [   13/  100] | d_loss: 0.1915 | g_loss: 3.8385\n",
      "Epoch [   14/  100] | d_loss: 0.0612 | g_loss: 4.4525\n",
      "Epoch [   14/  100] | d_loss: 0.2171 | g_loss: 2.6791\n",
      "Epoch [   15/  100] | d_loss: 0.2145 | g_loss: 3.7290\n",
      "Epoch [   15/  100] | d_loss: 0.1351 | g_loss: 3.1921\n",
      "Epoch [   16/  100] | d_loss: 0.4199 | g_loss: 2.9089\n",
      "Epoch [   16/  100] | d_loss: 0.2226 | g_loss: 3.3992\n",
      "Epoch [   17/  100] | d_loss: 0.0777 | g_loss: 4.5557\n",
      "Epoch [   17/  100] | d_loss: 0.2851 | g_loss: 3.1295\n",
      "Epoch [   18/  100] | d_loss: 0.1381 | g_loss: 3.3994\n",
      "Epoch [   18/  100] | d_loss: 0.0874 | g_loss: 3.4813\n",
      "Epoch [   19/  100] | d_loss: 0.2837 | g_loss: 2.8203\n",
      "Epoch [   19/  100] | d_loss: 0.0668 | g_loss: 3.7559\n",
      "Epoch [   20/  100] | d_loss: 0.1699 | g_loss: 3.0573\n",
      "Epoch [   20/  100] | d_loss: 0.0291 | g_loss: 4.1235\n",
      "Epoch [   21/  100] | d_loss: 0.6485 | g_loss: 3.4746\n",
      "Epoch [   21/  100] | d_loss: 0.6109 | g_loss: 1.7782\n",
      "Epoch [   22/  100] | d_loss: 0.7834 | g_loss: 2.2393\n",
      "Epoch [   22/  100] | d_loss: 0.1618 | g_loss: 3.9750\n",
      "Epoch [   23/  100] | d_loss: 0.0203 | g_loss: 4.5222\n",
      "Epoch [   23/  100] | d_loss: 0.0388 | g_loss: 4.8810\n",
      "Epoch [   24/  100] | d_loss: 0.1215 | g_loss: 3.3932\n",
      "Epoch [   24/  100] | d_loss: 0.4078 | g_loss: 2.8333\n",
      "Epoch [   25/  100] | d_loss: 0.6219 | g_loss: 2.8598\n",
      "Epoch [   25/  100] | d_loss: 0.1015 | g_loss: 4.3600\n",
      "Epoch [   26/  100] | d_loss: 0.0378 | g_loss: 4.3097\n",
      "Epoch [   26/  100] | d_loss: 0.1396 | g_loss: 5.4069\n",
      "Epoch [   27/  100] | d_loss: 0.0846 | g_loss: 3.9290\n",
      "Epoch [   27/  100] | d_loss: 0.1121 | g_loss: 3.8252\n",
      "Epoch [   28/  100] | d_loss: 0.0332 | g_loss: 4.5576\n",
      "Epoch [   28/  100] | d_loss: 0.1473 | g_loss: 3.6662\n",
      "Epoch [   29/  100] | d_loss: 0.1605 | g_loss: 2.8141\n",
      "Epoch [   29/  100] | d_loss: 0.3047 | g_loss: 3.5996\n",
      "Epoch [   30/  100] | d_loss: 0.0323 | g_loss: 4.0415\n",
      "Epoch [   30/  100] | d_loss: 0.4107 | g_loss: 3.4314\n",
      "Epoch [   31/  100] | d_loss: 0.0627 | g_loss: 3.7009\n",
      "Epoch [   31/  100] | d_loss: 0.5986 | g_loss: 4.0969\n",
      "Epoch [   32/  100] | d_loss: 0.1371 | g_loss: 3.5811\n",
      "Epoch [   32/  100] | d_loss: 0.0483 | g_loss: 4.0396\n",
      "Epoch [   33/  100] | d_loss: 0.5586 | g_loss: 3.7336\n",
      "Epoch [   33/  100] | d_loss: 0.0192 | g_loss: 4.7680\n",
      "Epoch [   34/  100] | d_loss: 0.0639 | g_loss: 3.9619\n",
      "Epoch [   34/  100] | d_loss: 0.0471 | g_loss: 4.6833\n",
      "Epoch [   35/  100] | d_loss: 0.0415 | g_loss: 3.1121\n",
      "Epoch [   35/  100] | d_loss: 0.0118 | g_loss: 4.9296\n",
      "Epoch [   36/  100] | d_loss: 0.0827 | g_loss: 3.3685\n",
      "Epoch [   36/  100] | d_loss: 0.1032 | g_loss: 3.6540\n",
      "Epoch [   37/  100] | d_loss: 0.0182 | g_loss: 4.0406\n",
      "Epoch [   37/  100] | d_loss: 0.1521 | g_loss: 3.3078\n",
      "Epoch [   38/  100] | d_loss: 0.6304 | g_loss: 7.3343\n",
      "Epoch [   38/  100] | d_loss: 0.0589 | g_loss: 4.4781\n",
      "Epoch [   39/  100] | d_loss: 1.4453 | g_loss: 6.5984\n",
      "Epoch [   39/  100] | d_loss: 0.1122 | g_loss: 3.9569\n",
      "Epoch [   40/  100] | d_loss: 0.0535 | g_loss: 3.3242\n",
      "Epoch [   40/  100] | d_loss: 0.0643 | g_loss: 4.0114\n",
      "Epoch [   41/  100] | d_loss: 0.0125 | g_loss: 6.4625\n",
      "Epoch [   41/  100] | d_loss: 0.0472 | g_loss: 3.0551\n",
      "Epoch [   42/  100] | d_loss: 0.1234 | g_loss: 3.2136\n",
      "Epoch [   42/  100] | d_loss: 0.0338 | g_loss: 4.6453\n",
      "Epoch [   43/  100] | d_loss: 0.5429 | g_loss: 4.5040\n",
      "Epoch [   43/  100] | d_loss: 0.0130 | g_loss: 4.9308\n",
      "Epoch [   44/  100] | d_loss: 0.9001 | g_loss: 9.8421\n",
      "Epoch [   44/  100] | d_loss: 0.0250 | g_loss: 4.1677\n",
      "Epoch [   45/  100] | d_loss: 0.9455 | g_loss: 2.1051\n",
      "Epoch [   45/  100] | d_loss: 0.0176 | g_loss: 5.1783\n",
      "Epoch [   46/  100] | d_loss: 0.0440 | g_loss: 3.8682\n",
      "Epoch [   46/  100] | d_loss: 0.0773 | g_loss: 4.8265\n",
      "Epoch [   47/  100] | d_loss: 0.6730 | g_loss: 2.9597\n",
      "Epoch [   47/  100] | d_loss: 0.0358 | g_loss: 4.0510\n",
      "Epoch [   48/  100] | d_loss: 0.0103 | g_loss: 5.8662\n",
      "Epoch [   48/  100] | d_loss: 0.5420 | g_loss: 4.8452\n",
      "Epoch [   49/  100] | d_loss: 0.0124 | g_loss: 4.9771\n",
      "Epoch [   49/  100] | d_loss: 0.0085 | g_loss: 5.8223\n",
      "Epoch [   50/  100] | d_loss: 0.8633 | g_loss: 4.2178\n",
      "Epoch [   50/  100] | d_loss: 0.0705 | g_loss: 3.8507\n",
      "Epoch [   51/  100] | d_loss: 0.0283 | g_loss: 4.8008\n",
      "Epoch [   51/  100] | d_loss: 0.2715 | g_loss: 3.8096\n",
      "Epoch [   52/  100] | d_loss: 0.0140 | g_loss: 5.2204\n",
      "Epoch [   52/  100] | d_loss: 0.0066 | g_loss: 5.4085\n",
      "Epoch [   53/  100] | d_loss: 0.0280 | g_loss: 4.5346\n",
      "Epoch [   53/  100] | d_loss: 0.0192 | g_loss: 4.9344\n",
      "Epoch [   54/  100] | d_loss: 0.0283 | g_loss: 4.4575\n",
      "Epoch [   54/  100] | d_loss: 0.0040 | g_loss: 7.5534\n",
      "Epoch [   55/  100] | d_loss: 0.2942 | g_loss: 3.1736\n",
      "Epoch [   55/  100] | d_loss: 0.0286 | g_loss: 4.8262\n",
      "Epoch [   56/  100] | d_loss: 0.5521 | g_loss: 4.4204\n",
      "Epoch [   56/  100] | d_loss: 2.4757 | g_loss: 0.2880\n",
      "Epoch [   57/  100] | d_loss: 0.0108 | g_loss: 4.8454\n",
      "Epoch [   57/  100] | d_loss: 1.2483 | g_loss: 1.3804\n",
      "Epoch [   58/  100] | d_loss: 0.0010 | g_loss: 8.2996\n",
      "Epoch [   58/  100] | d_loss: 0.1122 | g_loss: 4.5557\n",
      "Epoch [   59/  100] | d_loss: 0.0152 | g_loss: 5.0084\n",
      "Epoch [   59/  100] | d_loss: 0.2667 | g_loss: 3.3570\n",
      "Epoch [   60/  100] | d_loss: 0.0079 | g_loss: 5.0685\n",
      "Epoch [   60/  100] | d_loss: 0.6227 | g_loss: 3.8730\n",
      "Epoch [   61/  100] | d_loss: 0.0124 | g_loss: 5.0526\n",
      "Epoch [   61/  100] | d_loss: 0.4191 | g_loss: 4.5778\n",
      "Epoch [   62/  100] | d_loss: 0.0379 | g_loss: 6.4498\n",
      "Epoch [   62/  100] | d_loss: 0.0386 | g_loss: 4.2588\n",
      "Epoch [   63/  100] | d_loss: 0.0699 | g_loss: 4.1652\n",
      "Epoch [   63/  100] | d_loss: 0.1100 | g_loss: 3.7229\n",
      "Epoch [   64/  100] | d_loss: 0.0508 | g_loss: 3.5134\n",
      "Epoch [   64/  100] | d_loss: 0.0115 | g_loss: 5.5933\n",
      "Epoch [   65/  100] | d_loss: 0.0117 | g_loss: 4.9280\n",
      "Epoch [   65/  100] | d_loss: 0.0081 | g_loss: 5.6203\n",
      "Epoch [   66/  100] | d_loss: 0.0100 | g_loss: 5.7864\n",
      "Epoch [   66/  100] | d_loss: 0.0143 | g_loss: 5.1936\n",
      "Epoch [   67/  100] | d_loss: 0.0191 | g_loss: 3.8903\n",
      "Epoch [   67/  100] | d_loss: 0.0218 | g_loss: 4.6136\n",
      "Epoch [   68/  100] | d_loss: 0.0254 | g_loss: 4.7401\n",
      "Epoch [   68/  100] | d_loss: 0.0137 | g_loss: 4.7962\n",
      "Epoch [   69/  100] | d_loss: 0.4831 | g_loss: 4.5030\n",
      "Epoch [   69/  100] | d_loss: 0.0149 | g_loss: 5.2809\n",
      "Epoch [   70/  100] | d_loss: 1.0360 | g_loss: 4.9128\n",
      "Epoch [   70/  100] | d_loss: 0.0301 | g_loss: 4.4869\n",
      "Epoch [   71/  100] | d_loss: 0.0603 | g_loss: 4.7359\n",
      "Epoch [   71/  100] | d_loss: 0.0219 | g_loss: 4.9844\n",
      "Epoch [   72/  100] | d_loss: 0.0555 | g_loss: 4.7932\n",
      "Epoch [   72/  100] | d_loss: 0.0091 | g_loss: 5.1060\n",
      "Epoch [   73/  100] | d_loss: 0.0800 | g_loss: 4.7534\n",
      "Epoch [   73/  100] | d_loss: 0.0184 | g_loss: 5.3879\n",
      "Epoch [   74/  100] | d_loss: 0.0052 | g_loss: 5.5044\n",
      "Epoch [   74/  100] | d_loss: 0.0171 | g_loss: 4.7553\n",
      "Epoch [   75/  100] | d_loss: 0.0512 | g_loss: 4.6189\n",
      "Epoch [   75/  100] | d_loss: 0.0126 | g_loss: 5.1730\n",
      "Epoch [   76/  100] | d_loss: 0.0038 | g_loss: 7.9045\n",
      "Epoch [   76/  100] | d_loss: 0.0315 | g_loss: 5.2713\n",
      "Epoch [   77/  100] | d_loss: 0.0044 | g_loss: 5.8422\n",
      "Epoch [   77/  100] | d_loss: 0.0071 | g_loss: 5.4559\n",
      "Epoch [   78/  100] | d_loss: 0.0118 | g_loss: 4.7999\n",
      "Epoch [   78/  100] | d_loss: 0.0091 | g_loss: 5.2866\n",
      "Epoch [   79/  100] | d_loss: 0.0369 | g_loss: 5.1333\n",
      "Epoch [   79/  100] | d_loss: 0.0126 | g_loss: 6.3446\n",
      "Epoch [   80/  100] | d_loss: 0.0224 | g_loss: 5.1265\n",
      "Epoch [   80/  100] | d_loss: 0.2755 | g_loss: 9.9986\n",
      "Epoch [   81/  100] | d_loss: 0.0051 | g_loss: 5.5267\n",
      "Epoch [   81/  100] | d_loss: 0.0232 | g_loss: 4.9348\n",
      "Epoch [   82/  100] | d_loss: 0.0135 | g_loss: 4.7618\n",
      "Epoch [   82/  100] | d_loss: 0.0127 | g_loss: 4.8961\n",
      "Epoch [   83/  100] | d_loss: 0.0114 | g_loss: 5.0510\n",
      "Epoch [   83/  100] | d_loss: 0.0027 | g_loss: 6.2964\n",
      "Epoch [   84/  100] | d_loss: 0.0917 | g_loss: 6.0707\n",
      "Epoch [   84/  100] | d_loss: 0.0049 | g_loss: 5.6955\n",
      "Epoch [   85/  100] | d_loss: 1.0357 | g_loss: 5.4376\n",
      "Epoch [   85/  100] | d_loss: 0.0050 | g_loss: 6.1567\n",
      "Epoch [   86/  100] | d_loss: 0.0268 | g_loss: 4.0204\n",
      "Epoch [   86/  100] | d_loss: 1.4922 | g_loss: 3.5986\n",
      "Epoch [   87/  100] | d_loss: 0.0275 | g_loss: 4.7588\n",
      "Epoch [   87/  100] | d_loss: 0.0049 | g_loss: 5.6109\n",
      "Epoch [   88/  100] | d_loss: 0.0710 | g_loss: 4.5318\n",
      "Epoch [   88/  100] | d_loss: 0.0086 | g_loss: 5.1356\n",
      "Epoch [   89/  100] | d_loss: 0.0142 | g_loss: 4.8078\n",
      "Epoch [   89/  100] | d_loss: 0.0055 | g_loss: 6.1527\n",
      "Epoch [   90/  100] | d_loss: 0.0217 | g_loss: 3.7983\n",
      "Epoch [   90/  100] | d_loss: 0.3285 | g_loss: 5.9801\n",
      "Epoch [   91/  100] | d_loss: 0.5077 | g_loss: 2.8893\n",
      "Epoch [   91/  100] | d_loss: 0.1234 | g_loss: 10.2629\n",
      "Epoch [   92/  100] | d_loss: 0.0088 | g_loss: 5.0767\n",
      "Epoch [   92/  100] | d_loss: 0.0076 | g_loss: 6.4085\n",
      "Epoch [   93/  100] | d_loss: 0.1110 | g_loss: 4.7568\n",
      "Epoch [   93/  100] | d_loss: 0.0073 | g_loss: 5.6745\n",
      "Epoch [   94/  100] | d_loss: 0.0146 | g_loss: 4.4895\n",
      "Epoch [   94/  100] | d_loss: 0.0245 | g_loss: 4.9413\n",
      "Epoch [   95/  100] | d_loss: 0.0128 | g_loss: 4.9416\n",
      "Epoch [   95/  100] | d_loss: 0.0019 | g_loss: 8.5004\n",
      "Epoch [   96/  100] | d_loss: 0.0035 | g_loss: 5.8100\n",
      "Epoch [   96/  100] | d_loss: 0.2446 | g_loss: 3.6420\n",
      "Epoch [   97/  100] | d_loss: 0.0021 | g_loss: 6.3887\n",
      "Epoch [   97/  100] | d_loss: 0.0050 | g_loss: 5.7973\n",
      "Epoch [   98/  100] | d_loss: 0.3073 | g_loss: 4.4988\n",
      "Epoch [   98/  100] | d_loss: 0.0208 | g_loss: 4.5748\n",
      "Epoch [   99/  100] | d_loss: 0.5128 | g_loss: 3.7329\n",
      "Epoch [   99/  100] | d_loss: 0.0058 | g_loss: 9.6718\n",
      "Epoch [  100/  100] | d_loss: 0.0089 | g_loss: 5.1992\n",
      "Epoch [  100/  100] | d_loss: 0.4746 | g_loss: 2.7555\n"
     ]
    }
   ],
   "source": [
    "# set number of epochs \n",
    "n_epochs = 100\n",
    "\n",
    "\n",
    "\"\"\"\n",
    "DON'T MODIFY ANYTHING IN THIS CELL\n",
    "\"\"\"\n",
    "\n",
    "with active_session():\n",
    "    # training the model\n",
    "    # call training function\n",
    "    losses = train(D, G, n_epochs=n_epochs)"
   ]
  },
  {
   "cell_type": "markdown",
   "metadata": {
    "collapsed": true
   },
   "source": [
    "## Training loss\n",
    "\n",
    "Plot the training losses for the generator and discriminator, recorded after each epoch."
   ]
  },
  {
   "cell_type": "code",
   "execution_count": 36,
   "metadata": {},
   "outputs": [
    {
     "data": {
      "text/plain": [
       "<matplotlib.legend.Legend at 0x7f95eedffbe0>"
      ]
     },
     "execution_count": 36,
     "metadata": {},
     "output_type": "execute_result"
    },
    {
     "data": {
      "image/png": "[encoded data removed]",
      "text/plain": [
       "<matplotlib.figure.Figure at 0x7f95eeb8e630>"
      ]
     },
     "metadata": {
      "needs_background": "light"
     },
     "output_type": "display_data"
    }
   ],
   "source": [
    "fig, ax = plt.subplots()\n",
    "losses = np.array(losses)\n",
    "plt.plot(losses.T[0], label='Discriminator', alpha=0.5)\n",
    "plt.plot(losses.T[1], label='Generator', alpha=0.5)\n",
    "plt.title(\"Training Losses\")\n",
    "plt.legend()"
   ]
  },
  {
   "cell_type": "markdown",
   "metadata": {
    "collapsed": true
   },
   "source": [
    "## Generator samples from training\n",
    "\n",
    "View samples of images from the generator, and answer a question about the strengths and weaknesses of your trained models."
   ]
  },
  {
   "cell_type": "code",
   "execution_count": 37,
   "metadata": {},
   "outputs": [],
   "source": [
    "# helper function for viewing a list of passed in sample images\n",
    "def view_samples(epoch, samples):\n",
    "    fig, axes = plt.subplots(figsize=(16,4), nrows=2, ncols=8, sharey=True, sharex=True)\n",
    "    for ax, img in zip(axes.flatten(), samples[epoch]):\n",
    "        img = img.detach().cpu().numpy()\n",
    "        img = np.transpose(img, (1, 2, 0))\n",
    "        img = ((img + 1)*255 / (2)).astype(np.uint8)\n",
    "        ax.xaxis.set_visible(False)\n",
    "        ax.yaxis.set_visible(False)\n",
    "        im = ax.imshow(img.reshape((32,32,3)))"
   ]
  },
  {
   "cell_type": "code",
   "execution_count": 38,
   "metadata": {},
   "outputs": [],
   "source": [
    "# Load samples from generator, taken while training\n",
    "with open('train_samples.pkl', 'rb') as f:\n",
    "    samples = pkl.load(f)"
   ]
  },
  {
   "cell_type": "code",
   "execution_count": 39,
   "metadata": {},
   "outputs": [
    {
     "data": {
      "image/png": "[encoded data removed]",
      "text/plain": [
       "<matplotlib.figure.Figure at 0x7f95eeaf3dd8>"
      ]
     },
     "metadata": {
      "needs_background": "light"
     },
     "output_type": "display_data"
    }
   ],
   "source": [
    "_ = view_samples(-1, samples)"
   ]
  },
  {
   "cell_type": "markdown",
   "metadata": {},
   "source": [
    "### Question: What do you notice about your generated samples and how might you improve this model?\n",
    "When you answer this question, consider the following factors:\n",
    "* The dataset is biased; it is made of \"celebrity\" faces that are mostly white\n",
    "* Model size; larger models have the opportunity to learn more features in a data feature space\n",
    "* Optimization strategy; optimizers and number of epochs affect your final result\n"
   ]
  },
  {
   "cell_type": "markdown",
   "metadata": {},
   "source": [
    "**Answer:** \n",
    "\n",
    "* The generated sample are lighter because the dataset is biased. A different dataset, which is more color inclusive could, potentially, generate more realistic photos. Therefore, we could use a dataset that contains faces from all color types. \n",
    "* Changing the model’s architecture and making it larger will definitely make our generated images more realistic because it can learn more features. On the other side, it will take more time to train. Also, training on bigger images will improve the model.\n",
    "* One possible way to improve this model is to train longer to see how good the results get. Maybe training for more epochs can make our model generate more realistic images.     "
   ]
  },
  {
   "cell_type": "markdown",
   "metadata": {},
   "source": [
    "### Submitting This Project\n",
    "When submitting this project, make sure to run all the cells before saving the notebook. Save the notebook file as \"dlnd_face_generation.ipynb\" and save it as a HTML file under \"File\" -> \"Download as\". Include the \"problem_unittests.py\" files in your submission."
   ]
  }
 ],
 "metadata": {
  "kernelspec": {
   "display_name": "Python 3",
   "language": "python",
   "name": "python3"
  },
  "language_info": {
   "codemirror_mode": {
    "name": "ipython",
    "version": 3
   },
   "file_extension": ".py",
   "mimetype": "text/x-python",
   "name": "python",
   "nbconvert_exporter": "python",
   "pygments_lexer": "ipython3",
   "version": "3.6.3"
  }
 },
 "nbformat": 4,
 "nbformat_minor": 1
}
